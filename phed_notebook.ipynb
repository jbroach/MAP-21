{
 "cells": [
  {
   "cell_type": "code",
   "execution_count": 127,
   "metadata": {},
   "outputs": [],
   "source": [
    "import os\n",
    "import pandas as pd\n",
    "import numpy as np\n",
    "import datetime as dt\n",
    "from decimal import Decimal, ROUND_HALF_UP\n",
    "\n",
    "def total_excessive_delay(df_ted):\n",
    "    df_ted['TED'] = round(df_ted['ED'] * df_ted['PK_HR'], 2)\n",
    "    df_ted['TED'] = round(df_ted['TED']) # Need this line to fix excel rounding weirdness\n",
    "\n",
    "    #Groupby for summation by TMC\n",
    "    #ted_operations = ({'TED' : 'sum'})\n",
    "    #df_ted = df_ted.groupby('tmc_code', as_index=False).agg(ted_operations)\n",
    "    return df_ted\n",
    "    \n",
    "def peak_hr(df_pk):\n",
    "    df_pk['PK_HR'] = round(df_pk['DirAADT_AUTO']/4)\n",
    "    return df_pk\n",
    "    \n",
    "def excessive_delay(df_ed):\n",
    "    df_ed['ED'] = df_ed['RSD']/3600 # check this value hundredths of an hour\n",
    "    #df_ed['ED'] = df_ed['ED'].round(3)\n",
    "    df_ed['ED'] = df_ed['ED'].apply(Decimal(df_ed['ED']).quantize('.001'), rounding=ROUND_HALF_UP)\n",
    "    df_ed['ED'] = np.where(df_ed['ED'] >= 0, df_ed['ED'], 0)\n",
    "    return df_ed\n",
    "\n",
    "def RSD(df_rsd):\n",
    "    # returns travel time segment delay calculations.\n",
    "    df_rsd['RSD'] = df_rsd['SD'] - df_rsd['2017_EDT']\n",
    "    df_rsd['RSD'] = np.where(df_rsd['RSD'] >= 0, df_rsd['RSD'], 0)\n",
    "    return df_rsd\n",
    "        \n",
    "def segment_delay(df_sd):\n",
    "    # returns SD spreadsheet value.\n",
    "    df_sd['SD'] = df_sd['travel_time_seconds'].round()\n",
    "    return df_sd\n",
    "\n",
    "def AADT_splits(df_in):\n",
    "    # apply ODOT methodology AADT_spit calculations to dataframe and create new columns.\n",
    "    # df_in['aadt_singl] = Dir_AADT_BUD, \n",
    "    # df_in['aadt_combi'] = DirAADT_TRK\n",
    "    df_in['DirAADT_AUTO'] = df_in['aadt'] - (df_in['aadt_singl'] + df_in['aadt_combi'])\n",
    "    df_in['pct_auto'] = df_in['DirAADT_AUTO']/df_in['aadt']\n",
    "    df_in['pct_bus'] = df_in['aadt_singl']/df_in['aadt']\n",
    "    df_in['pct_truck'] = df_in['aadt_combi']/df_in['aadt']\n",
    "    return df_in\n",
    "\n",
    "def main():\n",
    "    pd.set_option('display.max_rows', None)\n",
    "\n",
    "    df = pd.read_csv(os.path.join(os.path.dirname('__file__'), 'Feb2017_test/Feb2017_test.csv')) #fix in script implementation\n",
    "    # Filter by timestamps\n",
    "    df['measurement_tstamp'] = pd.to_datetime(df['measurement_tstamp'])\n",
    "    df = df[df['measurement_tstamp'].dt.weekday.isin([0, 1, 2, 3, 4])] # Capture weekdays only\n",
    "    df = df[df['measurement_tstamp'].dt.hour.isin([6, 7, 8, 9, 16, 17, 18, 19])]\n",
    "    \n",
    "    df_meta = pd.read_csv(os.path.join(os.path.dirname('__file__'), 'Feb2017_test/TMC_Identification.csv'), \n",
    "                          usecols=['tmc', 'miles', 'tmclinear', 'aadt', 'aadt_singl', 'aadt_combi' ])\n",
    "    df_odot = pd.read_csv(os.path.join(os.path.dirname('__file__'), 'Feb2017_test/odot_edt.csv'))    \n",
    "    df = pd.merge(df, df_meta, left_on=df['tmc_code'], right_on=['tmc'], how='inner')\n",
    "    df = pd.merge(df, df_odot, left_on=df['tmc_code'], right_on=['TMC'], how='inner')\n",
    "    \n",
    "    df = AADT_splits(df)\n",
    "    df = segment_delay(df)\n",
    "    df = RSD(df)\n",
    "    df = excessive_delay(df)\n",
    "    df = peak_hr(df)\n",
    "    df = total_excessive_delay(df)\n",
    "    #print(df)                                       \n",
    "    # Return a selected row for test purposes only\n",
    "    df = df[['RSD','PK_HR','ED', 'tmc_code', 'TED']]\n",
    "    print(df.loc[df['tmc_code'] == '114-04368'])"
   ]
  },
  {
   "cell_type": "code",
   "execution_count": 128,
   "metadata": {},
   "outputs": [
    {
     "ename": "TypeError",
     "evalue": "conversion from Series to Decimal is not supported",
     "output_type": "error",
     "traceback": [
      "\u001b[1;31m---------------------------------------------------------------------------\u001b[0m",
      "\u001b[1;31mTypeError\u001b[0m                                 Traceback (most recent call last)",
      "\u001b[1;32m<ipython-input-128-263240bbee7e>\u001b[0m in \u001b[0;36m<module>\u001b[1;34m()\u001b[0m\n\u001b[1;32m----> 1\u001b[1;33m \u001b[0mmain\u001b[0m\u001b[1;33m(\u001b[0m\u001b[1;33m)\u001b[0m\u001b[1;33m\u001b[0m\u001b[0m\n\u001b[0m",
      "\u001b[1;32m<ipython-input-127-195b2912f3e3>\u001b[0m in \u001b[0;36mmain\u001b[1;34m()\u001b[0m\n\u001b[0;32m     64\u001b[0m     \u001b[0mdf\u001b[0m \u001b[1;33m=\u001b[0m \u001b[0msegment_delay\u001b[0m\u001b[1;33m(\u001b[0m\u001b[0mdf\u001b[0m\u001b[1;33m)\u001b[0m\u001b[1;33m\u001b[0m\u001b[0m\n\u001b[0;32m     65\u001b[0m     \u001b[0mdf\u001b[0m \u001b[1;33m=\u001b[0m \u001b[0mRSD\u001b[0m\u001b[1;33m(\u001b[0m\u001b[0mdf\u001b[0m\u001b[1;33m)\u001b[0m\u001b[1;33m\u001b[0m\u001b[0m\n\u001b[1;32m---> 66\u001b[1;33m     \u001b[0mdf\u001b[0m \u001b[1;33m=\u001b[0m \u001b[0mexcessive_delay\u001b[0m\u001b[1;33m(\u001b[0m\u001b[0mdf\u001b[0m\u001b[1;33m)\u001b[0m\u001b[1;33m\u001b[0m\u001b[0m\n\u001b[0m\u001b[0;32m     67\u001b[0m     \u001b[0mdf\u001b[0m \u001b[1;33m=\u001b[0m \u001b[0mpeak_hr\u001b[0m\u001b[1;33m(\u001b[0m\u001b[0mdf\u001b[0m\u001b[1;33m)\u001b[0m\u001b[1;33m\u001b[0m\u001b[0m\n\u001b[0;32m     68\u001b[0m     \u001b[0mdf\u001b[0m \u001b[1;33m=\u001b[0m \u001b[0mtotal_excessive_delay\u001b[0m\u001b[1;33m(\u001b[0m\u001b[0mdf\u001b[0m\u001b[1;33m)\u001b[0m\u001b[1;33m\u001b[0m\u001b[0m\n",
      "\u001b[1;32m<ipython-input-127-195b2912f3e3>\u001b[0m in \u001b[0;36mexcessive_delay\u001b[1;34m(df_ed)\u001b[0m\n\u001b[0;32m     21\u001b[0m     \u001b[0mdf_ed\u001b[0m\u001b[1;33m[\u001b[0m\u001b[1;34m'ED'\u001b[0m\u001b[1;33m]\u001b[0m \u001b[1;33m=\u001b[0m \u001b[0mdf_ed\u001b[0m\u001b[1;33m[\u001b[0m\u001b[1;34m'RSD'\u001b[0m\u001b[1;33m]\u001b[0m\u001b[1;33m/\u001b[0m\u001b[1;36m3600\u001b[0m \u001b[1;31m# check this value hundredths of an hour\u001b[0m\u001b[1;33m\u001b[0m\u001b[0m\n\u001b[0;32m     22\u001b[0m     \u001b[1;31m#df_ed['ED'] = df_ed['ED'].round(3)\u001b[0m\u001b[1;33m\u001b[0m\u001b[1;33m\u001b[0m\u001b[0m\n\u001b[1;32m---> 23\u001b[1;33m     \u001b[0mdf_ed\u001b[0m\u001b[1;33m[\u001b[0m\u001b[1;34m'ED'\u001b[0m\u001b[1;33m]\u001b[0m \u001b[1;33m=\u001b[0m \u001b[0mdf_ed\u001b[0m\u001b[1;33m[\u001b[0m\u001b[1;34m'ED'\u001b[0m\u001b[1;33m]\u001b[0m\u001b[1;33m.\u001b[0m\u001b[0mapply\u001b[0m\u001b[1;33m(\u001b[0m\u001b[0mDecimal\u001b[0m\u001b[1;33m(\u001b[0m\u001b[0mdf_ed\u001b[0m\u001b[1;33m[\u001b[0m\u001b[1;34m'ED'\u001b[0m\u001b[1;33m]\u001b[0m\u001b[1;33m)\u001b[0m\u001b[1;33m.\u001b[0m\u001b[0mquantize\u001b[0m\u001b[1;33m(\u001b[0m\u001b[1;34m'.001'\u001b[0m\u001b[1;33m)\u001b[0m\u001b[1;33m,\u001b[0m \u001b[0mrounding\u001b[0m\u001b[1;33m=\u001b[0m\u001b[0mROUND_HALF_UP\u001b[0m\u001b[1;33m)\u001b[0m\u001b[1;33m\u001b[0m\u001b[0m\n\u001b[0m\u001b[0;32m     24\u001b[0m     \u001b[0mdf_ed\u001b[0m\u001b[1;33m[\u001b[0m\u001b[1;34m'ED'\u001b[0m\u001b[1;33m]\u001b[0m \u001b[1;33m=\u001b[0m \u001b[0mnp\u001b[0m\u001b[1;33m.\u001b[0m\u001b[0mwhere\u001b[0m\u001b[1;33m(\u001b[0m\u001b[0mdf_ed\u001b[0m\u001b[1;33m[\u001b[0m\u001b[1;34m'ED'\u001b[0m\u001b[1;33m]\u001b[0m \u001b[1;33m>=\u001b[0m \u001b[1;36m0\u001b[0m\u001b[1;33m,\u001b[0m \u001b[0mdf_ed\u001b[0m\u001b[1;33m[\u001b[0m\u001b[1;34m'ED'\u001b[0m\u001b[1;33m]\u001b[0m\u001b[1;33m,\u001b[0m \u001b[1;36m0\u001b[0m\u001b[1;33m)\u001b[0m\u001b[1;33m\u001b[0m\u001b[0m\n\u001b[0;32m     25\u001b[0m     \u001b[1;32mreturn\u001b[0m \u001b[0mdf_ed\u001b[0m\u001b[1;33m\u001b[0m\u001b[0m\n",
      "\u001b[1;31mTypeError\u001b[0m: conversion from Series to Decimal is not supported"
     ]
    }
   ],
   "source": [
    "main()"
   ]
  },
  {
   "cell_type": "code",
   "execution_count": 105,
   "metadata": {},
   "outputs": [
    {
     "name": "stdout",
     "output_type": "stream",
     "text": [
      "0.022499999999999999167332731531132594682276248931884765625\n"
     ]
    },
    {
     "data": {
      "text/plain": [
       "Decimal('0.022')"
      ]
     },
     "execution_count": 105,
     "metadata": {},
     "output_type": "execute_result"
    }
   ],
   "source": [
    "from decimal import Decimal, ROUND_HALF_UP\n",
    "num = .0225\n",
    "print (Decimal(num))\n",
    "Decimal(num).quantize(Decimal('.001'), rounding=ROUND_HALF_UP)\n"
   ]
  }
 ],
 "metadata": {
  "kernelspec": {
   "display_name": "Python 3",
   "language": "python",
   "name": "python3"
  },
  "language_info": {
   "codemirror_mode": {
    "name": "ipython",
    "version": 3
   },
   "file_extension": ".py",
   "mimetype": "text/x-python",
   "name": "python",
   "nbconvert_exporter": "python",
   "pygments_lexer": "ipython3",
   "version": "3.6.4"
  }
 },
 "nbformat": 4,
 "nbformat_minor": 2
}
